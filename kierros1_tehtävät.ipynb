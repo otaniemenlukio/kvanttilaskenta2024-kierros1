{
 "cells": [
  {
   "cell_type": "code",
   "execution_count": null,
   "metadata": {},
   "outputs": [],
   "source": [
    "# ctrl+enter\n",
    "import numpy as np\n",
    "from qiskit import *\n",
    "print(\"Numpy kirjasto on nyt käytössä.\")"
   ]
  },
  {
   "cell_type": "markdown",
   "metadata": {},
   "source": [
    "## Tehtävä 1.1\n",
    "\n",
    "Laske vektorin $a= 3i + 4j$ pituus käyttäen indeksöintiä ja Pythagoraan lausetta"
   ]
  },
  {
   "cell_type": "code",
   "execution_count": null,
   "metadata": {},
   "outputs": [],
   "source": [
    "a = np.matrix([[3], [4]])\n",
    "print(a)"
   ]
  },
  {
   "cell_type": "code",
   "execution_count": null,
   "metadata": {},
   "outputs": [],
   "source": [
    "# Laske vektorin a pituus muuttujaan l\n",
    "l = (a[0,0]**2+a[1,0]**2)**0.5\n",
    "\n",
    "print(f\"Vektorin 3i + 4j pituus {l}\")"
   ]
  },
  {
   "cell_type": "markdown",
   "metadata": {},
   "source": [
    "## Tehtävä 1.2\n",
    "\n",
    "Laske Pythonilla vektorien a ja b aritmeettinen keskiarvo kaavalla\n",
    "\n",
    "$$ \\frac{\\bar a + \\bar b}2 $$"
   ]
  },
  {
   "cell_type": "code",
   "execution_count": null,
   "metadata": {},
   "outputs": [],
   "source": [
    "a = np.matrix([[1], [3]])\n",
    "b = np.matrix([[3], [1]])\n",
    "\n",
    "# laske keskiarvo muuttujaan avg\n",
    "avg = ____\n",
    "\n",
    "print(\"Keskiarvoksi saatiin\")\n",
    "print(avg)"
   ]
  },
  {
   "cell_type": "markdown",
   "metadata": {},
   "source": [
    "## Tehtävä 1.3\n",
    "\n",
    "Ratkaise Pythonilla ovatko vektorit a ja b kohtisuoria, eli niiden välinen pistetulo 0."
   ]
  },
  {
   "cell_type": "markdown",
   "metadata": {},
   "source": [
    "## Tehtävä 1.4\n",
    "\n",
    "a) Muunna binääriesitykseen luku $123_{10}$\n",
    "\n",
    "b) Muunna desimaaliesitykseen luku $1011101_{2}$\n",
    "\n",
    "\n",
    "Ratkaise tehtävä ohjelmoimalla pythonilla alla olevaan soluun."
   ]
  },
  {
   "cell_type": "markdown",
   "metadata": {},
   "source": [
    "## Tehtävä 1.5\n",
    "\n",
    "![](./images/xor_circuit.png)\n",
    "\n",
    "Täytä totuustaulusta puuttuvat kohdat (merkattu alaviivoilla ___) ylläolevan loogisen piirin mukaan. Voit muokata taulua tuplaklikkaamalla."
   ]
  },
  {
   "cell_type": "markdown",
   "metadata": {},
   "source": [
    "| $A$ | $B$ | C = $A \\lor B$ | D = $\\neg(A \\land B)$ | Out = ___ |\n",
    "| :-: | :-: | :-:            | :-:                   | :-:       |\n",
    "|   0 |   0 | 0              | _                     | _         |\n",
    "|   0 |   1 | _              | _                     | 1         |\n",
    "|   1 |   0 | _              | _                     | _         |\n",
    "|   1 |   1 | _              | _                     | _         |"
   ]
  },
  {
   "cell_type": "markdown",
   "metadata": {},
   "source": [
    "## Tehtävä 1.6\n",
    "\n",
    "Lue [johdantoartikkeli Kvanttit horitsontissa sivut 6 -8](https://raw.githubusercontent.com/otaniemenlukio/kvanttilaskenta2024-kierros1/main/kvantit_horisontissa.pdf)\n",
    "\n",
    "a) Kerro lyhyesti lukemasi artikkelin perusteella, mitä ovat klassisten ja kvanttitietokoneiden oleelliset erot?\n",
    "\n",
    "TODO markdown editointi ohjeet"
   ]
  },
  {
   "cell_type": "markdown",
   "metadata": {},
   "source": [
    "## Tehtävä 1.7\n",
    "\n",
    "Tehtävä on suorittaa seuraava kvanttipiiriesimerkki. Koodiin ei tarvitse tehdä muutoksia.\n",
    "\n",
    "Huomaa, että kvanttipiirin toimintaa ei vielä tarvitse ymmärtää. Tavoite on tutustua miten kvanttitietokoneiden ohjelmoinnissa käytettävä kvanttipiiri määrittelään Pythonin avulla. Piirin toiminta ja keskeiset käsitteet selitetään myöhemmin kurssilla."
   ]
  },
  {
   "cell_type": "code",
   "execution_count": null,
   "metadata": {},
   "outputs": [],
   "source": [
    "%matplotlib inline\n",
    "from qiskit import *\n",
    "\n",
    "circuit = QuantumCircuit(2, 2)\n",
    "\n",
    "display(circuit.draw(output='mpl'))\n",
    "\n",
    "# Lisätään Hadamard-portti H \n",
    "circuit.h(0)\n",
    "display(circuit.draw(output='mpl'))\n",
    "\n",
    "# Lisätään kvanttipiiriin CNOT-portti cx()-komennolla\n",
    "circuit.cx(0, 1)\n",
    "display(circuit.draw(output='mpl'))\n",
    "\n",
    "# Mitataan molemmat kubitit, ja tallennetaan tulokset klassiseen rekisteriin\n",
    "circuit.measure([0, 1], [0, 1])\n",
    "display(circuit.draw(output='mpl'))\n",
    "\n",
    "# Simuloidaan piirin toiminta.\n",
    "simulator = Aer.get_backend('qasm_simulator')\n",
    "execute(circuit, backend=simulator)\n",
    "result = execute(circuit, backend=simulator).result()\n",
    "from qiskit.tools.visualization import plot_histogram\n",
    "plot_histogram(result.get_counts(circuit))"
   ]
  }
 ],
 "metadata": {
  "kernelspec": {
   "display_name": "Python 3 (ipykernel)",
   "language": "python",
   "name": "python3"
  },
  "language_info": {
   "codemirror_mode": {
    "name": "ipython",
    "version": 3
   },
   "file_extension": ".py",
   "mimetype": "text/x-python",
   "name": "python",
   "nbconvert_exporter": "python",
   "pygments_lexer": "ipython3",
   "version": "3.11.7"
  },
  "vscode": {
   "interpreter": {
    "hash": "c599cb660db903d48c4a798280cd684b1e61eb2f03221ce98a1665e092e9537c"
   }
  }
 },
 "nbformat": 4,
 "nbformat_minor": 2
}
