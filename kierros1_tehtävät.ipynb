{
 "cells": [
  {
   "cell_type": "code",
   "execution_count": 8,
   "metadata": {},
   "outputs": [
    {
     "name": "stdout",
     "output_type": "stream",
     "text": [
      "Numpy kirjasto on nyt käytössä.\n"
     ]
    }
   ],
   "source": [
    "# ctrl+enter\n",
    "import numpy as np\n",
    "from qiskit import *\n",
    "print(\"Numpy kirjasto on nyt käytössä.\")"
   ]
  },
  {
   "cell_type": "markdown",
   "metadata": {},
   "source": [
    "## Tehtävä 1.1\n",
    "\n",
    "Laske vektorin $a= 3i + 4j$ pituus käyttäen indeksöintiä ja pythagoraan lausetta"
   ]
  },
  {
   "cell_type": "code",
   "execution_count": 9,
   "metadata": {},
   "outputs": [],
   "source": [
    "a = np.matrix([[3], [4]])"
   ]
  },
  {
   "cell_type": "code",
   "execution_count": 10,
   "metadata": {},
   "outputs": [
    {
     "ename": "NameError",
     "evalue": "name '____' is not defined",
     "output_type": "error",
     "traceback": [
      "\u001b[0;31m---------------------------------------------------------------------------\u001b[0m",
      "\u001b[0;31mNameError\u001b[0m                                 Traceback (most recent call last)",
      "\u001b[1;32m/home/niklash/kvantti/kvanttilaskenta2024-kierros1/kierros1_tehtävät.ipynb Cell 4\u001b[0m line \u001b[0;36m2\n\u001b[1;32m      <a href='vscode-notebook-cell:/home/niklash/kvantti/kvanttilaskenta2024-kierros1/kierros1_teht%C3%A4v%C3%A4t.ipynb#X16sZmlsZQ%3D%3D?line=0'>1</a>\u001b[0m \u001b[39m# Laske vektorin a pituus muuttujaan l\u001b[39;00m\n\u001b[0;32m----> <a href='vscode-notebook-cell:/home/niklash/kvantti/kvanttilaskenta2024-kierros1/kierros1_teht%C3%A4v%C3%A4t.ipynb#X16sZmlsZQ%3D%3D?line=1'>2</a>\u001b[0m l \u001b[39m=\u001b[39m ____\n\u001b[1;32m      <a href='vscode-notebook-cell:/home/niklash/kvantti/kvanttilaskenta2024-kierros1/kierros1_teht%C3%A4v%C3%A4t.ipynb#X16sZmlsZQ%3D%3D?line=3'>4</a>\u001b[0m \u001b[39mprint\u001b[39m(\u001b[39mf\u001b[39m\u001b[39m\"\u001b[39m\u001b[39mVektorin 3i + 4j pituus \u001b[39m\u001b[39m{\u001b[39;00ml\u001b[39m}\u001b[39;00m\u001b[39m\"\u001b[39m)\n",
      "\u001b[0;31mNameError\u001b[0m: name '____' is not defined"
     ]
    }
   ],
   "source": [
    "# Laske vektorin a pituus muuttujaan l\n",
    "l = ____\n",
    "\n",
    "print(f\"Vektorin 3i + 4j pituus {l}\")"
   ]
  },
  {
   "cell_type": "markdown",
   "metadata": {},
   "source": [
    "## Tehtävä 1.2\n",
    "\n",
    "Laske Pythonilla vektorien a ja b aritmeettinen keskiarvo kaavalla\n",
    "\n",
    "$$ \\frac{\\bar a + \\bar b}2 $$"
   ]
  },
  {
   "cell_type": "code",
   "execution_count": null,
   "metadata": {},
   "outputs": [],
   "source": [
    "a = np.matrix([[1], [3]])\n",
    "b = np.matrix([[3], [1]])\n",
    "\n",
    "# laske keskiarvo muuttujaan avg\n",
    "avg = ____\n",
    "\n",
    "print(\"Keskiarvoksi saatiin\")\n",
    "print(avg)"
   ]
  },
  {
   "cell_type": "markdown",
   "metadata": {},
   "source": [
    "## Tehtävä 1.3\n",
    "\n",
    "Ratkaise Pythonilla ovatko vektorit a ja b kohtisuoria, eli niiden välinen pistetulo 0."
   ]
  },
  {
   "cell_type": "markdown",
   "metadata": {},
   "source": [
    "## Tehtävä 1.4\n",
    "\n",
    "a) Muunna binääriesitykseen luku $123_{10}$\n",
    "\n",
    "b) Muunna desimaaliesitykseen luku $1011101_{2}$\n",
    "\n",
    "\n",
    "Ratkaise tehtävä ohjelmoimalla pythonilla alla olevaan soluun."
   ]
  },
  {
   "cell_type": "markdown",
   "metadata": {},
   "source": [
    "## Tehtävä 1.5\n",
    "\n",
    "Lue [johdantoartikkeli Kvanttit horitsontissa sivut 6 -8](https://github.com/otaniemenlukio/kvanttilaskenta2022/blob/main/kierros1/kvantit_horisontissa.pdf)\n",
    "\n",
    "a) Kerro lyhyesti lukemasi artikkelin perusteella, mitä ovat klassisten ja kvanttitietokoneiden oleelliset erot?\n",
    "\n",
    "TODO markdown editointi ohjeet"
   ]
  },
  {
   "cell_type": "markdown",
   "metadata": {},
   "source": [
    "## Tehtävä 1.6\n",
    "\n",
    "Tehtävä on suorittaa seuraava kvanttipiiriesimerkki. Koodiin ei tarvitse tehdä muutoksia.\n",
    "\n",
    "Huomaa, että kvanttipiirin toimintaa ei vielä tarvitse ymmärtää. Tavoite on tutustua miten kvanttitietokoneiden ohjelmoinnissa käytettävä kvanttipiiri määrittelään Pythonin avulla. Piirin toiminta ja keskeiset käsitteet selitetään myöhemmin kurssilla."
   ]
  },
  {
   "cell_type": "code",
   "execution_count": null,
   "metadata": {},
   "outputs": [],
   "source": [
    "%matplotlib inline\n",
    "from qiskit import *\n",
    "\n",
    "circuit = QuantumCircuit(2, 2)\n",
    "\n",
    "display(circuit.draw(output='mpl'))\n",
    "\n",
    "# Lisätään Hadamard-portti H \n",
    "circuit.h(0)\n",
    "display(circuit.draw(output='mpl'))\n",
    "\n",
    "# Lisätään kvanttipiiriin CNOT-portti cx()-komennolla\n",
    "circuit.cx(0, 1)\n",
    "display(circuit.draw(output='mpl'))\n",
    "\n",
    "# Mitataan molemmat kubitit, ja tallennetaan tulokset klassiseen rekisteriin\n",
    "circuit.measure([0, 1], [0, 1])\n",
    "display(circuit.draw(output='mpl'))\n",
    "\n",
    "# Simuloidaan piirin toiminta.\n",
    "simulator = Aer.get_backend('qasm_simulator')\n",
    "execute(circuit, backend=simulator)\n",
    "result = execute(circuit, backend=simulator).result()\n",
    "from qiskit.tools.visualization import plot_histogram\n",
    "plot_histogram(result.get_counts(circuit))"
   ]
  }
 ],
 "metadata": {
  "kernelspec": {
   "display_name": "Python 3 (ipykernel)",
   "language": "python",
   "name": "python3"
  },
  "language_info": {
   "codemirror_mode": {
    "name": "ipython",
    "version": 3
   },
   "file_extension": ".py",
   "mimetype": "text/x-python",
   "name": "python",
   "nbconvert_exporter": "python",
   "pygments_lexer": "ipython3",
   "version": "3.11.7"
  },
  "vscode": {
   "interpreter": {
    "hash": "c599cb660db903d48c4a798280cd684b1e61eb2f03221ce98a1665e092e9537c"
   }
  }
 },
 "nbformat": 4,
 "nbformat_minor": 2
}
