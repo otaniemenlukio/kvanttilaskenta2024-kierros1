{
 "cells": [
  {
   "cell_type": "markdown",
   "metadata": {},
   "source": [
    "# Kvanttilaskenta 2024: Kierros 1 tehtävät\n",
    "\n",
    "Seuraava lohko pitää suorittaa, jotta saat Numpy-kirjaston käyttöön muihin lohkoihin. "
   ]
  },
  {
   "cell_type": "code",
   "execution_count": 1,
   "metadata": {},
   "outputs": [
    {
     "name": "stdout",
     "output_type": "stream",
     "text": [
      "Numpy kirjasto on nyt käytössä.\n"
     ]
    }
   ],
   "source": [
    "# ctrl+enter\n",
    "import numpy as np\n",
    "from qiskit import *\n",
    "print(\"Numpy kirjasto on nyt käytössä.\")"
   ]
  },
  {
   "cell_type": "markdown",
   "metadata": {},
   "source": [
    "## Tehtävä 1.1\n",
    "\n",
    "Laske vektorin $a= 3i + 4j$ pituus käyttäen indeksöintiä ja Pythagoraan lausetta"
   ]
  },
  {
   "cell_type": "code",
   "execution_count": 2,
   "metadata": {},
   "outputs": [
    {
     "name": "stdout",
     "output_type": "stream",
     "text": [
      "[[3]\n",
      " [4]]\n"
     ]
    }
   ],
   "source": [
    "a = np.matrix([[3], [4]])\n",
    "print(a)"
   ]
  },
  {
   "cell_type": "code",
   "execution_count": 3,
   "metadata": {},
   "outputs": [
    {
     "name": "stdout",
     "output_type": "stream",
     "text": [
      "Vektorin 3i + 4j pituus 5.0\n"
     ]
    }
   ],
   "source": [
    "# Laske vektorin a pituus muuttujaan l\n",
    "l = (a[0,0]**2+a[1,0]**2)**0.5\n",
    "\n",
    "print(f\"Vektorin 3i + 4j pituus {l}\")"
   ]
  },
  {
   "cell_type": "markdown",
   "metadata": {},
   "source": [
    "## Tehtävä 1.2\n",
    "\n",
    "Laske Pythonilla vektorien a ja b aritmeettinen keskiarvo kaavalla\n",
    "\n",
    "$$ \\frac{\\bar a + \\bar b}2 $$"
   ]
  },
  {
   "cell_type": "code",
   "execution_count": 4,
   "metadata": {},
   "outputs": [
    {
     "name": "stdout",
     "output_type": "stream",
     "text": [
      "Keskiarvoksi saatiin\n",
      "[[2.]\n",
      " [2.]]\n"
     ]
    }
   ],
   "source": [
    "a = np.matrix([[1], [3]])\n",
    "b = np.matrix([[3], [1]])\n",
    "\n",
    "# laske keskiarvo muuttujaan avg\n",
    "avg = (a+b)/2\n",
    "\n",
    "print(\"Keskiarvoksi saatiin\")\n",
    "print(avg)"
   ]
  },
  {
   "cell_type": "markdown",
   "metadata": {},
   "source": [
    "## Tehtävä 1.3\n",
    "\n",
    "Ratkaise Pythonilla ovatko vektorit a ja b kohtisuoria, eli niiden välinen pistetulo 0."
   ]
  },
  {
   "cell_type": "code",
   "execution_count": 5,
   "metadata": {},
   "outputs": [
    {
     "name": "stdout",
     "output_type": "stream",
     "text": [
      "6\n"
     ]
    }
   ],
   "source": [
    "pistetulo = a[0,0]*b[0,0]+a[1,0]*b[1,0]\n",
    "print(pistetulo)"
   ]
  },
  {
   "cell_type": "code",
   "execution_count": 8,
   "metadata": {},
   "outputs": [
    {
     "name": "stdout",
     "output_type": "stream",
     "text": [
      "[[1 3]]\n",
      "[[6]]\n"
     ]
    }
   ],
   "source": [
    "# TApa 2\n",
    "# transponoidaan vektori a\n",
    "print(a.T)\n",
    "# lasketaan vaakavektorin a.T ja pystyvektorin b tulo\n",
    "pistetulo = a.T*b\n",
    "print(pistetulo)\n"
   ]
  },
  {
   "cell_type": "markdown",
   "metadata": {},
   "source": [
    "## Tehtävä 1.4\n",
    "\n",
    "a) Muunna binääriesitykseen luku $123_{10}$\n",
    "\n",
    "b) Muunna desimaaliesitykseen luku $1011101_{2}$\n",
    "\n",
    "\n",
    "Ratkaise tehtävä ohjelmoimalla pythonilla alla olevaan soluun."
   ]
  },
  {
   "cell_type": "code",
   "execution_count": 9,
   "metadata": {},
   "outputs": [
    {
     "data": {
      "text/plain": [
       "'0b1111011'"
      ]
     },
     "execution_count": 9,
     "metadata": {},
     "output_type": "execute_result"
    }
   ],
   "source": [
    "bin(123)"
   ]
  },
  {
   "cell_type": "code",
   "execution_count": 16,
   "metadata": {},
   "outputs": [
    {
     "data": {
      "text/plain": [
       "93"
      ]
     },
     "execution_count": 16,
     "metadata": {},
     "output_type": "execute_result"
    }
   ],
   "source": [
    "int(\"1011101\",2)"
   ]
  },
  {
   "cell_type": "markdown",
   "metadata": {},
   "source": [
    "## Tehtävä 1.5\n",
    "\n",
    "![](./images/xor_circuit.png)\n",
    "\n",
    "Täytä totuustaulusta puuttuvat kohdat (merkattu alaviivoilla \\_) ylläolevan loogisen piirin mukaan. Voit muokata taulua tuplaklikkaamalla."
   ]
  },
  {
   "cell_type": "markdown",
   "metadata": {},
   "source": [
    "| $A$ | $B$ | C = $A \\lor B$ | D = $\\neg(A \\land B)$ | Out = $ C \\land D$ |\n",
    "| :-: | :-: | :-:            | :-:                   | :-:       |\n",
    "|   0 |   0 | 0              | 1                     | 0         |\n",
    "|   0 |   1 | 1              | 1                     | 1         |\n",
    "|   1 |   0 | 1              | 1                     | 1         |\n",
    "|   1 |   1 | 1              | 0                     | 0         |"
   ]
  },
  {
   "cell_type": "markdown",
   "metadata": {},
   "source": [
    "## Tehtävä 1.6\n",
    "\n",
    "Lue [johdantoartikkeli Kvanttit horitsontissa sivut 6 -8](https://raw.githubusercontent.com/otaniemenlukio/kvanttilaskenta2024-kierros1/main/kvantit_horisontissa.pdf)\n",
    "\n",
    "Kerro lyhyesti lukemasi artikkelin perusteella, mitä ovat klassisten ja kvanttitietokoneiden oleelliset erot?"
   ]
  },
  {
   "cell_type": "markdown",
   "metadata": {},
   "source": [
    "Vastaus: Klassisen tietokoneen bittien arvot voivat olla 0 tai 1. \n",
    "\n",
    "Kvanttitietokoneen kubitti voi ennen tilan mittaamista olla arvon 0 ja 1 yhdistelmätilassa. Mittaamisessa kubitin tila valikoituu, ja samalla menetetään informaatiota. Kvanttitietokoneen kubittien välillä on kytkentä, eli lomittuminen (entanglement).\n",
    "\n",
    "Jos kubitin kvanttitilan tila mitataan, saadaan tilastollisia vastauksia, samalla kvanttitila tuhotaan, ts. se ei enää jatka omaa elämäänsä “kvanttimaailmassa”, vaan tilan kannalta kvanttikoherenssi loppuu. Kvanttikone voidaan kuitenkin alustaa uudelleen suorittamaan samaa identtistä “koodia”. Suorittamalla riittävä määrä mittauksia aivan samalla systeemillä, saadaan selville todennäköisimmät lopputilat, joihin kubitit asettautuvat kvanttiporttien vaikutuksesta. Nämä useimmiten esiintyvät tilat ovat kvanttikoneen tulokset. Jos häiriötekijöitä ei onnistuta poistamaan, on lopputuloksissa niin paljon kohinaa, ettei oikeita tuloksia voi enää helposti tunnistaa laskentadatasta."
   ]
  },
  {
   "cell_type": "markdown",
   "metadata": {},
   "source": [
    "## Tehtävä 1.7\n",
    "\n",
    "Tehtävä on suorittaa seuraava kvanttipiiriesimerkki. Koodiin ei tarvitse tehdä muutoksia.\n",
    "\n",
    "Huomaa, että kvanttipiirin toimintaa ei vielä tarvitse ymmärtää. Tavoite on tutustua miten kvanttitietokoneiden ohjelmoinnissa käytettävä kvanttipiiri määrittelään Pythonin avulla. Piirin toiminta ja keskeiset käsitteet selitetään myöhemmin kurssilla."
   ]
  },
  {
   "cell_type": "code",
   "execution_count": 17,
   "metadata": {},
   "outputs": [
    {
     "data": {
      "image/png": "[encoded data removed]",
      "text/plain": [
       "<Figure size 116.552x204.68 with 1 Axes>"
      ]
     },
     "metadata": {},
     "output_type": "display_data"
    },
    {
     "data": {
      "image/png": "[encoded data removed]",
      "text/plain": [
       "<Figure size 146.652x204.68 with 1 Axes>"
      ]
     },
     "metadata": {},
     "output_type": "display_data"
    },
    {
     "data": {
      "image/png": "[encoded data removed]",
      "text/plain": [
       "<Figure size 206.852x204.68 with 1 Axes>"
      ]
     },
     "metadata": {},
     "output_type": "display_data"
    },
    {
     "data": {
      "image/png": "[encoded data removed]",
      "text/plain": [
       "<Figure size 327.252x204.68 with 1 Axes>"
      ]
     },
     "metadata": {},
     "output_type": "display_data"
    },
    {
     "data": {
      "image/png": "[encoded data removed]",
      "text/plain": [
       "<Figure size 504x360 with 1 Axes>"
      ]
     },
     "execution_count": 17,
     "metadata": {},
     "output_type": "execute_result"
    }
   ],
   "source": [
    "%matplotlib inline\n",
    "from qiskit import *\n",
    "\n",
    "# Luodaan 2 kubitin kvanttipiiri, alkutila on |0>.\n",
    "circuit = QuantumCircuit(2, 2)\n",
    "\n",
    "display(circuit.draw(output='mpl'))\n",
    "\n",
    "# Lisätään Hadamard-portti H \n",
    "circuit.h(0)\n",
    "display(circuit.draw(output='mpl'))\n",
    "\n",
    "# Lisätään kvanttipiiriin CNOT-portti cx()-komennolla\n",
    "circuit.cx(0, 1)\n",
    "display(circuit.draw(output='mpl'))\n",
    "\n",
    "# Mitataan molemmat kubitit, ja tallennetaan tulokset klassiseen rekisteriin\n",
    "circuit.measure([0, 1], [0, 1])\n",
    "display(circuit.draw(output='mpl'))\n",
    "\n",
    "# Simuloidaan piirin toiminta.\n",
    "simulator = Aer.get_backend('qasm_simulator')\n",
    "execute(circuit, backend=simulator)\n",
    "result = execute(circuit, backend=simulator).result()\n",
    "from qiskit.tools.visualization import plot_histogram\n",
    "plot_histogram(result.get_counts(circuit))"
   ]
  }
 ],
 "metadata": {
  "kernelspec": {
   "display_name": "Python 3 (ipykernel)",
   "language": "python",
   "name": "python3"
  },
  "language_info": {
   "codemirror_mode": {
    "name": "ipython",
    "version": 3
   },
   "file_extension": ".py",
   "mimetype": "text/x-python",
   "name": "python",
   "nbconvert_exporter": "python",
   "pygments_lexer": "ipython3",
   "version": "3.10.0"
  },
  "vscode": {
   "interpreter": {
    "hash": "c599cb660db903d48c4a798280cd684b1e61eb2f03221ce98a1665e092e9537c"
   }
  }
 },
 "nbformat": 4,
 "nbformat_minor": 2
}
